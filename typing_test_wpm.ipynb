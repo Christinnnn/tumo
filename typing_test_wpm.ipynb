{
  "nbformat": 4,
  "nbformat_minor": 0,
  "metadata": {
    "colab": {
      "provenance": [],
      "authorship_tag": "ABX9TyOU2fFmyNw86KeVO9/5/g1A",
      "include_colab_link": true
    },
    "kernelspec": {
      "name": "python3",
      "display_name": "Python 3"
    },
    "language_info": {
      "name": "python"
    }
  },
  "cells": [
    {
      "cell_type": "markdown",
      "metadata": {
        "id": "view-in-github",
        "colab_type": "text"
      },
      "source": [
        "<a href=\"https://colab.research.google.com/github/Christinnnn/tumo/blob/main/typing_test_wpm.ipynb\" target=\"_parent\"><img src=\"https://colab.research.google.com/assets/colab-badge.svg\" alt=\"Open In Colab\"/></a>"
      ]
    },
    {
      "cell_type": "code",
      "source": [
        "import time\n",
        "import random\n",
        "import textwrap"
      ],
      "metadata": {
        "id": "iKz6Tla7iGyy"
      },
      "execution_count": 17,
      "outputs": []
    },
    {
      "cell_type": "markdown",
      "source": [
        "![Screenshot 2025-05-23 140132.png](data:image/png;base64,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)"
      ],
      "metadata": {
        "id": "xn_jKJQCl2Yi"
      }
    },
    {
      "cell_type": "code",
      "source": [
        "paragraphs = [\n",
        "    \"The quick brown fox jumps over the lazy dog.\",\n",
        "    \"Typing is a skill that improves with consistent practice.\",\n",
        "    \"Python is a powerful and easy-to-learn programming language.\",\n",
        "    \"Success is not the key to happiness. Happiness is the key to success.\",\n",
        "    \"Discipline is choosing between what you want now and what you want most.\"\n",
        "]\n",
        "\n",
        "def get_random_paragraph():\n",
        "    return random.choice(paragraphs)\n",
        "\n",
        "def calculate_wpm(text, duration):\n",
        "    words = len(text.split())\n",
        "    return (words / duration) * 60\n",
        "\n",
        "def calculate_accuracy(original, typed):\n",
        "    total_chars = len(original)\n",
        "    correct_chars = 0\n",
        "    #correct_chars = sum(1 for o, t in zip(original, typed) if o == t)\n",
        "    for original_char, typed_char in zip(original, typed):\n",
        "        if original_char == typed_char:\n",
        "            correct_chars += 1\n",
        "    accuracy = (correct_chars / total_chars) * 100\n",
        "    return round(accuracy, 2), total_chars - correct_chars\n",
        "\n",
        "\n"
      ],
      "metadata": {
        "id": "HUqoxDmdiQ0Z"
      },
      "execution_count": 18,
      "outputs": []
    },
    {
      "cell_type": "code",
      "source": [
        "def main():\n",
        "    print(\"=== WPM Typing Test ===\\n\")\n",
        "    paragraph = get_random_paragraph()\n",
        "    wrapped_paragraph = textwrap.fill(paragraph, width=70)\n",
        "    print(wrapped_paragraph)\n",
        "    input(\"\\nPress Enter when you're ready to start typing...\")\n",
        "\n",
        "    print(\"\\nStart typing below:\\n\")\n",
        "    start_time = time.time()\n",
        "    typed_text = input()\n",
        "    end_time = time.time()\n",
        "\n",
        "    duration = end_time - start_time\n",
        "    wpm = calculate_wpm(typed_text, duration)\n",
        "    accuracy, errors = calculate_accuracy(paragraph, typed_text)\n",
        "\n",
        "    print(\"\\n=== Results ===\")\n",
        "    print(f\"Duration: {round(duration, 2)} seconds\")\n",
        "    print(f\"WPM: {wpm}\")\n",
        "    print(f\"Accuracy: {accuracy}%\")\n",
        "    print(f\"Errors: {errors}\")\n",
        "\n",
        "if __name__ == \"__main__\":\n",
        "    main()"
      ],
      "metadata": {
        "colab": {
          "base_uri": "https://localhost:8080/"
        },
        "id": "LQqm3Jbko4DF",
        "outputId": "620697f4-3fd3-4e32-9c48-4fa6f6629c76"
      },
      "execution_count": 23,
      "outputs": [
        {
          "output_type": "stream",
          "name": "stdout",
          "text": [
            "=== WPM Typing Test ===\n",
            "\n",
            "Python is a powerful and easy-to-learn programming language.\n",
            "\n",
            "Press Enter when you're ready to start typing...\n",
            "\n",
            "Start typing below:\n",
            "\n",
            "python is a pwerfull and wasy to learn programming lanuage.\n",
            "\n",
            "=== Results ===\n",
            "Duration: 18.27 seconds\n",
            "WPM: 32.84025111810445\n",
            "Accuracy: 73.33%\n",
            "Errors: 16\n"
          ]
        }
      ]
    },
    {
      "cell_type": "code",
      "source": [],
      "metadata": {
        "id": "4nbzM2Klief4"
      },
      "execution_count": null,
      "outputs": []
    }
  ]
}